{
 "cells": [
  {
   "cell_type": "code",
   "execution_count": null,
   "metadata": {},
   "outputs": [],
   "source": [
    "# Load authors data from S3 into dataframe"
   ]
  },
  {
   "cell_type": "code",
   "execution_count": null,
   "metadata": {},
   "outputs": [],
   "source": [
    "import pandas as pd\n",
    "import boto3\n",
    "import json\n",
    "import configparser"
   ]
  },
  {
   "cell_type": "code",
   "execution_count": null,
   "metadata": {},
   "outputs": [],
   "source": [
    "# Create connections\n",
    "region = 'us-east-1'\n",
    "s3_client = boto3.client('s3', region_name=region)\n",
    "s3_resource = boto3.resource('s3', region_name=region)"
   ]
  },
  {
   "cell_type": "code",
   "execution_count": null,
   "metadata": {},
   "outputs": [],
   "source": [
    "# https://stackoverflow.com/questions/40995251/reading-an-json-file-from-s3-using-python-boto3/47121263#47121263\n",
    "content_object = s3_resource.Object('arxiv-etl', 'staging/authors/authors-parsed.json')\n",
    "file_content = content_object.get()['Body'].read().decode('utf-8')\n",
    "# S3_HOOK read_key --> return obj.get()['Body'].read().decode('utf-8')\n",
    "#json_content = json.loads(file_content)"
   ]
  },
  {
   "cell_type": "code",
   "execution_count": null,
   "metadata": {},
   "outputs": [],
   "source": [
    "#file_content[\"0704.0001\"]\n",
    "file_content[0:10000]"
   ]
  },
  {
   "cell_type": "code",
   "execution_count": null,
   "metadata": {},
   "outputs": [],
   "source": [
    "df = pd.read_json(file_content, orient='index')"
   ]
  },
  {
   "cell_type": "code",
   "execution_count": null,
   "metadata": {},
   "outputs": [],
   "source": [
    "# Load data from local disk into dataframe"
   ]
  },
  {
   "cell_type": "code",
   "execution_count": null,
   "metadata": {},
   "outputs": [],
   "source": [
    "df = pd.read_json(\"./../data/loading/authors/authors-parsed.json\", orient='index')"
   ]
  },
  {
   "cell_type": "code",
   "execution_count": null,
   "metadata": {},
   "outputs": [],
   "source": [
    "df.head()"
   ]
  },
  {
   "cell_type": "code",
   "execution_count": null,
   "metadata": {},
   "outputs": [],
   "source": [
    "data = '{\"0704.0001\": [[\"Bal\\\\u00e1zs\", \"C.\", \"\"], [\"Berger\", \"E. L.\", \"\"], [\"Nadolsky\", \"P. M.\", \"\"], [\"Yuan\", \"C. -P.\", \"\"]], \"0704.0002\": [[\"Streinu\", \"Ileana\", \"\"], [\"Theran\", \"Louis\", \"\"]], \"0704.0003\": [[\"Pan\", \"Hongjun\", \"\"]], \"0704.0004\": [[\"Callan\", \"David\", \"\"]], \"0704.0005\": [[\"Abu-Shammala\", \"Wael\", \"\"], [\"Torchinsky\", \"Alberto\", \"\"]], \"0704.0006\": [[\"Pong\", \"Y. H.\", \"\"], [\"Law\", \"C. K.\", \"\"]], \"0704.0007\": [[\"Corichi\", \"Alejandro\", \"\"], [\"Vukasinac\", \"Tatjana\", \"\"], [\"Zapata\", \"Jose A.\", \"\"]], \"0704.0008\": [[\"Swift\", \"Damian C.\", \"\"]], \"0704.0009\": [[\"Harvey\", \"Paul\", \"\"], [\"Merin\", \"Bruno\", \"\"], [\"Huard\", \"Tracy L.\", \"\"], [\"Rebull\", \"Luisa M.\", \"\"], [\"Chapman\", \"Nicholas\", \"\"], [\"Evans\", \"Neal J.\", \"II\"], [\"Myers\", \"Philip C.\", \"\"]], \"0704.0010\": [[\"Ovchinnikov\", \"Sergei\", \"\"]], \"0704.0011\": [[\"Cunningham\", \"Clifton\", \"\"], [\"Dembele\", \"Lassina\", \"\"]], \"0704.0012\": [[\"Choi\", \"Dohoon\", \"\"]], \"0704.0013\": [[\"Choi\", \"Dohoon\", \"\"], [\"Choie\", \"YoungJu\", \"\"]], \"0704.0014\": [[\"Fujii\", \"Koichi\", \"\"]], \"0704.0015\": [[\"Stahn\", \"Christian\", \"\"]], \"0704.0016\": [[\"Chang\", \"Chao-Hsi\", \"\"], [\"Li\", \"Tong\", \"\"], [\"Li\", \"Xue-Qian\", \"\"], [\"Wang\", \"Yu-Ming\", \"\"]], \"0704.0017\": [[\"Mhlahlo\", \"Nceba\", \"\"], [\"Buckley\", \"David H.\", \"\"], [\"Dhillon\", \"Vikram S.\", \"\"], [\"Potter\", \"Steven B.\", \"\"], [\"Warner\", \"Brian\", \"\"], [\"Woudt\", \"Patric A.\", \"\"]], \"0704.0018\": [[\"Gustavsson\", \"Andreas\", \"\"]], \"0704.0019\": [[\"Konno\", \"Norio\", \"\"]], \"0704.0020\": [[\"The BABAR Collaboration\", \"\", \"\"], [\"Aubert\", \"B.\", \"\"]], \"0704.0021\": [[\"Casagrande\", \"Vanessa\", \"\"], [\"Togashi\", \"Yuichi\", \"\"], [\"Mikhailov\", \"Alexander S.\", \"\"]], \"0704.0022\": [[\"Malham\", \"Simon J. A.\", \"\"], [\"Wiese\", \"Anke\", \"\"]], \"0704.0023\": [[\"Loukitcheva\", \"M. A.\", \"\"], [\"Solanki\", \"S. K.\", \"\"], [\"White\", \"S.\", \"\"]], \"0704.0024\": [[\"Serga\", \"A. A.\", \"\"], [\"Kostylev\", \"M.\", \"\"], [\"Hillebrands\", \"B.\", \"\"]], \"0704.0025\": [[\"Mishchenko\", \"A. S.\", \"\", \"1 and 2\"], [\"Nagaosa\", \"N.\", \"\", \"1 and 3\"]], \"0704.0026\": [[\"de Marrais\", \"Robert P. C.\", \"\"]], \"0704.0027\": [[\"Goerbig\", \"M. O.\", \"\"], [\"Fuchs\", \"J. -N.\", \"\"], [\"Kechedzhi\", \"K.\", \"\"], [\"Fal\\'ko\", \"Vladimir I.\", \"\"]], \"0704.0028\": [[\"Frenkel\", \"P\\\\u00e9ter E.\", \"\"]], \"0704.0029\": [[\"Shu\", \"Zhan\", \"\"], [\"Chen\", \"Xiao-Lin\", \"\"], [\"Deng\", \"Wei-Zhen\", \"\"]], \"0704.0030\": [[\"Hague\", \"J. P.\", \"\"], [\"d\\'Ambrumenil\", \"N.\", \"\"]], \"0704.0031\": [[\"Biryukov\", \"V. M.\", \"\", \"Serpukhov, IHEP\"]], \"0704.0032\": [[\"Esteban-Pretel\", \"A.\", \"\"], [\"Tom\\\\u00e0s\", \"R.\", \"\"], [\"Valle\", \"J. W. F.\", \"\"]], \"0704.0033\": [[\"Yurkin\", \"Maxim A.\", \"\"], [\"Maltsev\", \"Valeri P.\", \"\"], [\"Hoekstra\", \"Alfons G.\", \"\"]]}'"
   ]
  },
  {
   "cell_type": "code",
   "execution_count": null,
   "metadata": {},
   "outputs": [],
   "source": [
    "df_small = pd.read_json(data, orient='index', dtype=False, convert_dates=False)\n",
    "df_small.head()"
   ]
  },
  {
   "cell_type": "code",
   "execution_count": null,
   "metadata": {},
   "outputs": [],
   "source": [
    "file_path = \"./../data/loading/authors/authors-parsed.json\"\n",
    "with open(file_path) as json_file:\n",
    "     json_file = json.load(json_file)"
   ]
  },
  {
   "cell_type": "code",
   "execution_count": null,
   "metadata": {},
   "outputs": [],
   "source": [
    "json_file[\"0704.0001\"]"
   ]
  },
  {
   "cell_type": "code",
   "execution_count": null,
   "metadata": {},
   "outputs": [],
   "source": [
    "len(json_file)"
   ]
  },
  {
   "cell_type": "code",
   "execution_count": null,
   "metadata": {
    "tags": []
   },
   "outputs": [],
   "source": [
    "num = 0\n",
    "count = 0\n",
    "authors = []\n",
    "\n",
    "for key in json_file:\n",
    "    value = json_file[key]\n",
    "    #print(\"{} : {}\".format(key, value))\n",
    "    for author_list in value:\n",
    "        #author = {\"metadata_id\": key, \"author_string\": str(author_list), \"author_parsed\": f\"{author_list[1]} {author_list[0]} {author_list[2]}\"}\n",
    "        author = {\"metadata_id\": key, \"author\": f\"{author_list[1].replace(',', '')} {author_list[0].replace(',', '')} {author_list[2].replace(',', '')}\"}\n",
    "        #print(author)\n",
    "        authors.append(author)\n",
    "\n",
    "authors_df = pd.DataFrame(authors)"
   ]
  },
  {
   "cell_type": "code",
   "execution_count": null,
   "metadata": {},
   "outputs": [],
   "source": [
    "authors_df.head()"
   ]
  },
  {
   "cell_type": "code",
   "execution_count": null,
   "metadata": {
    "tags": []
   },
   "outputs": [],
   "source": [
    "len(authors_df)"
   ]
  },
  {
   "cell_type": "code",
   "execution_count": null,
   "metadata": {
    "tags": []
   },
   "outputs": [],
   "source": [
    "keys = len(json_file.keys())\n",
    "values = len(json_file.values())\n",
    "print(keys, values)"
   ]
  },
  {
   "cell_type": "code",
   "execution_count": null,
   "metadata": {},
   "outputs": [],
   "source": [
    "df_test = pd.DataFrame({'article_id': json_file.keys(), 'authors_list': json_file.values()}, columns=['article_id','authors_list'])"
   ]
  },
  {
   "cell_type": "code",
   "execution_count": null,
   "metadata": {},
   "outputs": [],
   "source": [
    "df_test.head()"
   ]
  },
  {
   "cell_type": "code",
   "execution_count": null,
   "metadata": {},
   "outputs": [],
   "source": [
    "json_content = json.loads(data)"
   ]
  },
  {
   "cell_type": "code",
   "execution_count": null,
   "metadata": {},
   "outputs": [],
   "source": [
    "json_content"
   ]
  },
  {
   "cell_type": "code",
   "execution_count": null,
   "metadata": {},
   "outputs": [],
   "source": [
    "len(authors_df[authors_df['author'].str.contains(\",\")]) # We need to remove those commas\n",
    "#len(authors_df[authors_df['author_parsed'].str.contains(\",\")]) # We need to remove those commas"
   ]
  },
  {
   "cell_type": "code",
   "execution_count": null,
   "metadata": {},
   "outputs": [],
   "source": []
  }
 ],
 "metadata": {
  "language_info": {
   "codemirror_mode": {
    "name": "ipython",
    "version": 3
   },
   "file_extension": ".py",
   "mimetype": "text/x-python",
   "name": "python",
   "nbconvert_exporter": "python",
   "pygments_lexer": "ipython3",
   "version": "3.7.6-final"
  },
  "orig_nbformat": 2,
  "kernelspec": {
   "name": "python37664bit079b8e0c18c84c07a446e24cf94e2db0",
   "display_name": "Python 3.7.6 64-bit"
  }
 },
 "nbformat": 4,
 "nbformat_minor": 2
}