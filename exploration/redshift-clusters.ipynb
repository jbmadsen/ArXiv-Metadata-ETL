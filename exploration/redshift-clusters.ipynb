{
 "cells": [
  {
   "cell_type": "code",
   "execution_count": null,
   "metadata": {},
   "outputs": [],
   "source": [
    "# Sample queries on Redshift cluster as needed \n",
    "# https://docs.aws.amazon.com/redshift/latest/dg/REGEXP_SUBSTR.html\n",
    "# https://docs.aws.amazon.com/redshift/latest/dg/r_CASE_function.html\n",
    "# https://docs.aws.amazon.com/redshift/latest/dg/r_REPLACE.html\n",
    "\n",
    "# Regex\n",
    "# https://regex101.com/\n",
    "# https://stackoverflow.com/questions/7317043/regex-not-operator/7317087\n",
    "# https://docs.aws.amazon.com/redshift/latest/dg/pattern-matching-conditions-posix.html\n",
    "# https://stackoverflow.com/questions/41022295/redshift-regular-expression-negative-lookahead-does-not-work"
   ]
  },
  {
   "cell_type": "code",
   "execution_count": null,
   "metadata": {},
   "outputs": [],
   "source": [
    "import psycopg2\n",
    "import configparser"
   ]
  },
  {
   "cell_type": "code",
   "execution_count": null,
   "metadata": {},
   "outputs": [],
   "source": [
    "config = configparser.ConfigParser()\n",
    "config.read_file(open('./../setup/aws.cfg'))"
   ]
  },
  {
   "cell_type": "code",
   "execution_count": null,
   "metadata": {},
   "outputs": [],
   "source": [
    "conn = psycopg2.connect(\"host={} dbname={} user={} password={} port={}\".format(*config['CLUSTER'].values()))"
   ]
  },
  {
   "cell_type": "code",
   "execution_count": null,
   "metadata": {},
   "outputs": [],
   "source": [
    "cursor = conn.cursor()"
   ]
  },
  {
   "cell_type": "code",
   "execution_count": null,
   "metadata": {
    "tags": []
   },
   "outputs": [],
   "source": [
    "# Check parsing errors from json files\n",
    "cursor.execute(\"\"\"\n",
    "    SELECT * \n",
    "    FROM stl_load_errors\n",
    "\"\"\")\n",
    "for record in cursor:\n",
    "    print(record)"
   ]
  },
  {
   "cell_type": "code",
   "execution_count": null,
   "metadata": {
    "tags": []
   },
   "outputs": [],
   "source": [
    "# Check top 5 from metadata\n",
    "cursor.execute(\"\"\"\n",
    "    SELECT * \n",
    "    FROM staging.metadata\n",
    "    LIMIT 3\n",
    "\"\"\")\n",
    "for record in cursor:\n",
    "    print(record)"
   ]
  },
  {
   "cell_type": "code",
   "execution_count": null,
   "metadata": {
    "tags": []
   },
   "outputs": [],
   "source": [
    "cursor.execute(\"\"\"\n",
    "    SELECT * \n",
    "    FROM staging.classifications\n",
    "    LIMIT 5\n",
    "\"\"\")\n",
    "for record in cursor:\n",
    "    print(record)"
   ]
  },
  {
   "cell_type": "code",
   "execution_count": null,
   "metadata": {
    "tags": []
   },
   "outputs": [],
   "source": [
    "cursor.execute(\"\"\"\n",
    "    SELECT * \n",
    "    FROM staging.citations\n",
    "    LIMIT 5\n",
    "\"\"\")\n",
    "for record in cursor:\n",
    "    print(record)"
   ]
  },
  {
   "cell_type": "code",
   "execution_count": null,
   "metadata": {
    "tags": []
   },
   "outputs": [],
   "source": [
    "cursor.execute(\"\"\"\n",
    "    SELECT * \n",
    "    FROM staging.authors\n",
    "    LIMIT 5\n",
    "\"\"\")\n",
    "for record in cursor:\n",
    "    print(record)"
   ]
  },
  {
   "cell_type": "code",
   "execution_count": null,
   "metadata": {
    "tags": []
   },
   "outputs": [],
   "source": [
    "data = []\n",
    "# regexp_substr(\"journal-ref\",'(?<![0-9-])(19[6-9][0-9])(?![0-9-])|(?<![0-9-])(20[0-9]{2})(?![0-9-])') -- Negative lookbehind/lookahead does not work in Redshift :(      \n",
    "# https://stackoverflow.com/questions/41022295/redshift-regular-expression-negative-lookahead-does-not-work\n",
    "# https://docs.aws.amazon.com/redshift/latest/dg/REGEXP_SUBSTR.html\n",
    "cursor.execute(\"\"\"\n",
    "    SELECT \n",
    "        \"journal-ref\",\n",
    "        regexp_substr(\"journal-ref\",'(19[6-9][0-9])|(20[0-9]{2})')\n",
    "    from staging.metadata\n",
    "    order by id\n",
    "    limit 100\n",
    "\"\"\")\n",
    "for record in cursor:\n",
    "    data.append(record[0])\n",
    "    print(record)"
   ]
  },
  {
   "cell_type": "code",
   "execution_count": null,
   "metadata": {
    "tags": []
   },
   "outputs": [],
   "source": [
    "cursor.execute(\"\"\"\n",
    "    SELECT * \n",
    "    FROM public.articles_fact\n",
    "    LIMIT 2\n",
    "\"\"\")\n",
    "for record in cursor:\n",
    "    print(record)"
   ]
  },
  {
   "cell_type": "code",
   "execution_count": null,
   "metadata": {
    "tags": []
   },
   "outputs": [],
   "source": [
    "cursor.execute(\"\"\"\n",
    "    SELECT * \n",
    "    FROM public.articles_fact AS fct\n",
    "    INNER JOIN public.versions_dim AS ver\n",
    "        ON ver.article_id = fct.article_id\n",
    "    ORDER BY fct.article_id\n",
    "    LIMIT 3 \n",
    "\"\"\")\n",
    "for record in cursor:\n",
    "    print(record)"
   ]
  },
  {
   "cell_type": "code",
   "execution_count": null,
   "metadata": {
    "tags": []
   },
   "outputs": [],
   "source": [
    "# Note: https://arxiv.org/help/faq/references\n",
    "# Citations before 2007 have style: category/YYMMNNN - e.g. hep-th/9910001\n",
    "# Citations after 2007 have style: YYMM.NNNN - e.g. 1112.4395\n",
    "\n",
    "cursor.execute(\"\"\"\n",
    "    SELECT \n",
    "        CASE WHEN \n",
    "    FROM staging.citations\n",
    "    LIMIT 5\n",
    "\"\"\")\n",
    "for record in cursor:\n",
    "    print(record)"
   ]
  },
  {
   "cell_type": "code",
   "execution_count": null,
   "metadata": {
    "tags": []
   },
   "outputs": [],
   "source": [
    "cursor.execute(\"\"\"\n",
    "    SELECT * \n",
    "    FROM public.articles_fact\n",
    "    WHERE year < 2000\n",
    "    LIMIT 5\n",
    "\"\"\")\n",
    "for record in cursor:\n",
    "    print(record)"
   ]
  },
  {
   "cell_type": "code",
   "execution_count": null,
   "metadata": {},
   "outputs": [],
   "source": []
  },
  {
   "cell_type": "code",
   "execution_count": null,
   "metadata": {},
   "outputs": [],
   "source": []
  },
  {
   "cell_type": "code",
   "execution_count": null,
   "metadata": {},
   "outputs": [],
   "source": []
  },
  {
   "cell_type": "code",
   "execution_count": null,
   "metadata": {},
   "outputs": [],
   "source": []
  },
  {
   "cell_type": "code",
   "execution_count": null,
   "metadata": {},
   "outputs": [],
   "source": [
    "conn.close()"
   ]
  },
  {
   "cell_type": "code",
   "execution_count": null,
   "metadata": {},
   "outputs": [],
   "source": []
  },
  {
   "cell_type": "code",
   "execution_count": null,
   "metadata": {},
   "outputs": [],
   "source": []
  }
 ],
 "metadata": {
  "language_info": {
   "codemirror_mode": {
    "name": "ipython",
    "version": 3
   },
   "file_extension": ".py",
   "mimetype": "text/x-python",
   "name": "python",
   "nbconvert_exporter": "python",
   "pygments_lexer": "ipython3",
   "version": "3.7.6-final"
  },
  "orig_nbformat": 2,
  "kernelspec": {
   "name": "python37664bit079b8e0c18c84c07a446e24cf94e2db0",
   "display_name": "Python 3.7.6 64-bit"
  }
 },
 "nbformat": 4,
 "nbformat_minor": 2
}