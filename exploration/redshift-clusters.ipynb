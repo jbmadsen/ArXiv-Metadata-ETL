{
 "cells": [
  {
   "cell_type": "code",
   "execution_count": null,
   "metadata": {},
   "outputs": [],
   "source": [
    "# Sample queries on Redshift cluster as needed "
   ]
  },
  {
   "cell_type": "code",
   "execution_count": 90,
   "metadata": {},
   "outputs": [],
   "source": [
    "import psycopg2\n",
    "import configparser"
   ]
  },
  {
   "cell_type": "code",
   "execution_count": 91,
   "metadata": {},
   "outputs": [],
   "source": [
    "config = configparser.ConfigParser()\n",
    "config.read_file(open('./../setup/aws.cfg'))"
   ]
  },
  {
   "cell_type": "code",
   "execution_count": 100,
   "metadata": {},
   "outputs": [],
   "source": [
    "conn = psycopg2.connect(\"host={} dbname={} user={} password={} port={}\".format(*config['CLUSTER'].values()))"
   ]
  },
  {
   "cell_type": "code",
   "execution_count": 101,
   "metadata": {},
   "outputs": [],
   "source": [
    "cursor = conn.cursor()"
   ]
  },
  {
   "cell_type": "code",
   "execution_count": null,
   "metadata": {
    "tags": []
   },
   "outputs": [],
   "source": [
    "# Check parsing errors from json files\n",
    "cursor.execute(\"\"\"\n",
    "    SELECT * \n",
    "    FROM stl_load_errors\n",
    "\"\"\")\n",
    "for record in cursor:\n",
    "    print(record)"
   ]
  },
  {
   "cell_type": "code",
   "execution_count": null,
   "metadata": {
    "tags": []
   },
   "outputs": [],
   "source": [
    "# Check top 5 from metadata\n",
    "cursor.execute(\"\"\"\n",
    "    SELECT * \n",
    "    FROM public.staging_metadata\n",
    "    LIMIT 5\n",
    "\"\"\")\n",
    "for record in cursor:\n",
    "    print(record)"
   ]
  },
  {
   "cell_type": "code",
   "execution_count": null,
   "metadata": {
    "tags": []
   },
   "outputs": [],
   "source": [
    "# Check top 5 from metadata\n",
    "cursor.execute(\"\"\"\n",
    "    SELECT * \n",
    "    FROM public.staging_classifications\n",
    "    LIMIT 5\n",
    "\"\"\")\n",
    "for record in cursor:\n",
    "    print(record)"
   ]
  },
  {
   "cell_type": "code",
   "execution_count": null,
   "metadata": {
    "tags": []
   },
   "outputs": [],
   "source": [
    "# Check top 5 from metadata\n",
    "cursor.execute(\"\"\"\n",
    "    SELECT * \n",
    "    FROM public.staging_authors\n",
    "    LIMIT 5\n",
    "\"\"\")\n",
    "for record in cursor:\n",
    "    print(record)"
   ]
  },
  {
   "cell_type": "code",
   "execution_count": 102,
   "metadata": {
    "tags": []
   },
   "outputs": [
    {
     "output_type": "stream",
     "name": "stdout",
     "text": "('Phys.Rev.D76:013009,2007', '2007')\n(None, None)\n(None, None)\n(None, None)\n('Illinois J. Math. 52 (2008) no.2, 681-689', '2008')\n(None, None)\n('Phys.Rev.D76:044016,2007', '2007')\n('Journal of Applied Physics, vol 104, 073536 (2008)', '2008')\n('Astrophys.J.663:1149-1173,2007', '2007')\n(None, None)\n(None, None)\n(None, None)\n(None, None)\n(None, None)\n('JHEP 0705:034,2007', '2007')\n('Commun.Theor.Phys.49:993-1000,2008', '2008')\n('Mon.Not.Roy.Astron.Soc.378:211-220,2007', '2007')\n(None, None)\n('RIMS Kokyuroku, No.1551, pp.57-62 (2007)', '2007')\n('Phys.Rev.D76:052005,2007', '2005')\n('Phys. Rev. Lett. 99, 048301 (2007)', '2007')\n(None, None)\n('Astrophys.Space Sci.313:197-200,2008', '2008')\n(None, None)\n(None, None)\n(None, None)\n('Phys. Rev. Lett. 99, 087402 (2007)', '2007')\n('Math. Res. Lett. 15 (2008), no. 2, 351--358', '2008')\n('Phys.Rev.D75:094018,2007', '2007')\n('J. Low. Temp. Phys. Vol. 140 pp77-89 (2005)', '2005')\n('Phys.Lett.B658:7-12,2007', '2007')\n('Phys.Rev.D76:053001,2007', '2007')\n('J.Opt.Soc.Am.A 23(10): 2578-2591 (2006)', '2006')\n(None, None)\n('J.Opt.Soc.Am.A 23(10): 2592-2601 (2006)', '2006')\n(None, None)\n('J.Quant.Spectrosc.Radiat.Transf. 106, 546-557 (2007)', '2007')\n('J.Quant.Spectrosc.Radiat.Transf. 106, 558-589 (2007)', '2007')\n('Phys.Lett.B651:139-146,2007', '2007')\n(None, None)\n(None, None)\n(None, None)\n('Physica A, V. 387, Issues 2-3 (2008), Pages 385-406', '2008')\n('ApJS 182, 310 (2009)', '2009')\n('J. Fluid Mech. 585, 213-244 (2007)', '2007')\n('J. Math. Phys. 48(2007), 092102.', '2007')\n(None, None)\n('Class.Quant.Grav.24:S541-S550,2007', '2007')\n(None, None)\n(None, None)\n(None, None)\n(None, None)\n('J. Math. Kyoto Univ., 48 (2008), 857-893.', '2008')\n('Studia Math. 182 (2007) no. 3, 283-294', '2007')\n(None, None)\n('J. Chem. Phys. 126, 194902 (2007)', '2007')\n('Phys. Rev. Lett. 99, 126405 (2007)', '2007')\n('International Journal of Astrobiology 2 (2003) 141-148', '2003')\n('Astrophys.J.663:573-582,2007', '2007')\n('Phys.Lett.B650:233-238,2007', '2007')\n(None, None)\n('Algorithms in Bioinformatics: 7th International Workshop (WABI),\\n  4645 volume of Lecture Notes in Computer Science, pp. 240-251, Philadelphia,\\n  PA, USA, September 2007. Springer', '2007')\n(None, None)\n('Int.J.Mod.Phys.A23:3685-3705,2008', '2008')\n('J. Algebra 321 (2009), 3450-3468.', '2009')\n(None, None)\n('L. H. Friedman. Order of epitaxial self-assembled quantum dots:\\n  Linear analysis. Journal of Nanophotonics, 1(1):013513, 2007.', '2007')\n(None, None)\n(None, None)\n('J. Phys.: Condens. Matter 20 (2008) 055214', '2008')\n(None, None)\n(None, None)\n(None, None)\n(None, None)\n('Phys.Rev.D75:094017,2007', '2007')\n('Int.J.Mod.Phys.A22:1953-1982,2007', '1982')\n(None, None)\n('Class.Quant.Grav.24:3673-3690,2007', '2007')\n(None, None)\n('Astrophys.J.679:1272-1287,2008', '2008')\n(None, None)\n(None, None)\n('Phys.Rev.Lett.99:071301,2007', '2007')\n(None, None)\n('JHEP 0706:061,2007', '2007')\n('Annals of Applied Probability 2008, Vol. 18, No. 3, 1026-1058', '2008')\n(None, None)\n(None, None)\n(None, None)\n(None, None)\n('Comm. Math. Helv. 84 (2009), No. 2, pp. 259--296.', '2009')\n('Phys.Rev.D76:054502,2007', '2007')\n('Phys. Rev. B 75, 195116 (2007)', '2007')\n(None, None)\n(None, None)\n(None, None)\n(None, None)\n('J. Phys. A: Math. Theor. 40 No 41 (12 October 2007) 12315-12333', '2007')\n(None, None)\n('Prog.Theor.Phys.118:715-727,2007', '2007')\n"
    }
   ],
   "source": [
    "# Check top 5 from metadata\n",
    "data = []\n",
    "# regexp_substr(\"journal-ref\",'(?<![0-9-])(19[6-9][0-9])(?![0-9-])|(?<![0-9-])(20[0-9]{2})(?![0-9-])') -- Negative lookbehind/lookahead does not work in Redshift :(      \n",
    "# https://stackoverflow.com/questions/41022295/redshift-regular-expression-negative-lookahead-does-not-work\n",
    "cursor.execute(\"\"\"\n",
    "    SELECT \n",
    "        \"journal-ref\",\n",
    "        regexp_substr(\"journal-ref\",'(19[6-9][0-9])|(20[0-9]{2})')\n",
    "    from staging.metadata\n",
    "    order by id\n",
    "    limit 100\n",
    "\"\"\")\n",
    "for record in cursor:\n",
    "    data.append(record[0])\n",
    "    print(record)"
   ]
  },
  {
   "cell_type": "code",
   "execution_count": 99,
   "metadata": {},
   "outputs": [],
   "source": [
    "conn.close()"
   ]
  },
  {
   "cell_type": "code",
   "execution_count": null,
   "metadata": {},
   "outputs": [],
   "source": []
  }
 ],
 "metadata": {
  "language_info": {
   "codemirror_mode": {
    "name": "ipython",
    "version": 3
   },
   "file_extension": ".py",
   "mimetype": "text/x-python",
   "name": "python",
   "nbconvert_exporter": "python",
   "pygments_lexer": "ipython3",
   "version": "3.7.6-final"
  },
  "orig_nbformat": 2,
  "kernelspec": {
   "name": "python37664bit079b8e0c18c84c07a446e24cf94e2db0",
   "display_name": "Python 3.7.6 64-bit"
  }
 },
 "nbformat": 4,
 "nbformat_minor": 2
}