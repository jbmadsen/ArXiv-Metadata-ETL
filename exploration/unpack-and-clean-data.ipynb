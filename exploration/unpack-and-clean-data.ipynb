{
 "cells": [
  {
   "cell_type": "code",
   "execution_count": null,
   "metadata": {},
   "outputs": [],
   "source": [
    "# Unpack and Clean data"
   ]
  },
  {
   "cell_type": "code",
   "execution_count": null,
   "metadata": {},
   "outputs": [],
   "source": [
    "# Imports\n",
    "import os\n",
    "import boto3\n",
    "import zipfile\n",
    "import shutil\n",
    "import progressbar\n",
    "\n",
    "# Notebook specific\n",
    "from IPython.display import clear_output\n",
    "\n",
    "# Exploring data\n",
    "import json\n",
    "from pathlib import Path"
   ]
  },
  {
   "cell_type": "code",
   "execution_count": null,
   "metadata": {},
   "outputs": [],
   "source": [
    "#Unzip files to new folder\n",
    "# https://stackoverflow.com/questions/3451111/unzipping-files-in-python\n",
    "path_to_zip_file = '../data/arxiv.zip'\n",
    "directory_to_extract_to = '../data/loading/'\n",
    "with zipfile.ZipFile(path_to_zip_file, 'r') as zip_ref:\n",
    "    zip_ref.extractall(directory_to_extract_to)"
   ]
  },
  {
   "cell_type": "code",
   "execution_count": null,
   "metadata": {
    "tags": []
   },
   "outputs": [],
   "source": [
    "# Lets look at those files using ijson to avoid loading entire files\n",
    "folder_name = '../data/loading/'\n",
    "directory = os.fsencode(folder_name)\n",
    "max_lines_to_load = 2\n",
    "\n",
    "# https://www.aylakhan.tech/?p=27\n",
    "\n",
    "def load_data(full_name, lines_to_load = 2):\n",
    "    with open(full_name, 'r') as f:\n",
    "        data  = []\n",
    "        lines = 0\n",
    "        for line in f: \n",
    "            data.append(json.loads(line))\n",
    "            lines += 1\n",
    "            if lines >= lines_to_load:\n",
    "                return data\n",
    "            \n",
    "for file in os.listdir(directory):\n",
    "    file_name = os.fsdecode(file)\n",
    "    full_name = os.path.join(folder_name, file_name)\n",
    "    file_size = Path(full_name).stat().st_size / 1024 / 1024 # Mb\n",
    "    if file_name.endswith(\".json\") and file_size > 500: # Only open large files \n",
    "        print(\"Filename: \", file_name, \"\\n\")\n",
    "        data = load_data(full_name, max_lines_to_load)\n",
    "        for line in data:\n",
    "            print(line)\n",
    "        print('\\n')"
   ]
  },
  {
   "cell_type": "code",
   "execution_count": null,
   "metadata": {},
   "outputs": [],
   "source": [
    "# Clean data"
   ]
  },
  {
   "cell_type": "code",
   "execution_count": null,
   "metadata": {
    "tags": []
   },
   "outputs": [],
   "source": []
  },
  {
   "cell_type": "code",
   "execution_count": null,
   "metadata": {},
   "outputs": [],
   "source": [
    "# Move files to individual folders\n",
    "os.makedirs(os.path.dirname('../data/loading/metadata/'), exist_ok=True)\n",
    "os.makedirs(os.path.dirname('../data/loading/authors/'), exist_ok=True)\n",
    "os.makedirs(os.path.dirname('../data/loading/citations/'), exist_ok=True)\n",
    "os.makedirs(os.path.dirname('../data/loading/classifications/'), exist_ok=True)"
   ]
  },
  {
   "cell_type": "code",
   "execution_count": null,
   "metadata": {},
   "outputs": [],
   "source": [
    "# Copy the data to loading folder to group it, which lets us sync the folder, and we can delete it after to save space\n",
    "src = '../data/loading/arxiv-metadata-oai-snapshot.json'\n",
    "dst = '../data/loading/metadata/arxiv-metadata-oai-snapshot.json'\n",
    "shutil.move(src, dst)\n",
    "\n",
    "src = '../data/loading/authors-parsed.json'\n",
    "dst = '../data/loading/authors/authors-parsed.json'\n",
    "shutil.move(src, dst)\n",
    "\n",
    "src = '../data/loading/internal-citations.json'\n",
    "dst = '../data/loading/citations/internal-citations.json'\n",
    "shutil.move(src, dst)\n",
    "\n",
    "src = '../data/subject-classifications.csv'\n",
    "dst = '../data/loading/classifications/subject-classifications.csv'\n",
    "shutil.move(src, dst)"
   ]
  },
  {
   "cell_type": "code",
   "execution_count": null,
   "metadata": {},
   "outputs": [],
   "source": [
    "# Create sample for metadata\n",
    "# Run in bash: head -100000 arxiv-metadata-oai-snapshot.json > arxiv-metadata-oai-snapshot-sample.json"
   ]
  },
  {
   "cell_type": "code",
   "execution_count": null,
   "metadata": {},
   "outputs": [],
   "source": []
  },
  {
   "cell_type": "code",
   "execution_count": null,
   "metadata": {},
   "outputs": [],
   "source": []
  },
  {
   "cell_type": "code",
   "execution_count": null,
   "metadata": {},
   "outputs": [],
   "source": []
  }
 ],
 "metadata": {
  "language_info": {
   "codemirror_mode": {
    "name": "ipython",
    "version": 3
   },
   "file_extension": ".py",
   "mimetype": "text/x-python",
   "name": "python",
   "nbconvert_exporter": "python",
   "pygments_lexer": "ipython3",
   "version": "3.7.6-final"
  },
  "orig_nbformat": 2,
  "kernelspec": {
   "name": "python37664bit079b8e0c18c84c07a446e24cf94e2db0",
   "display_name": "Python 3.7.6 64-bit"
  }
 },
 "nbformat": 4,
 "nbformat_minor": 2
}